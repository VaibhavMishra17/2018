{
  "cells": [
    {
      "cell_type": "code",
      "execution_count": null,
      "id": "56292a27",
      "metadata": {
        "_cell_guid": "b1076dfc-b9ad-4769-8c92-a6c4dae69d19",
        "_uuid": "8f2839f25d086af736a60e9eeb907d3b93b6e0e5",
        "execution": {
          "iopub.execute_input": "2022-02-16T12:42:53.300055Z",
          "iopub.status.busy": "2022-02-16T12:42:53.298802Z",
          "iopub.status.idle": "2022-02-16T12:42:53.321062Z",
          "shell.execute_reply": "2022-02-16T12:42:53.321638Z",
          "shell.execute_reply.started": "2022-02-16T11:38:59.925219Z"
        },
        "papermill": {
          "duration": 0.053012,
          "end_time": "2022-02-16T12:42:53.321943",
          "exception": false,
          "start_time": "2022-02-16T12:42:53.268931",
          "status": "completed"
        },
        "tags": [],
        "id": "56292a27"
      },
      "outputs": [],
      "source": [
        "import numpy as np # linear algebra\n",
        "import pandas as pd # data processing, CSV file I/O (e.g. pd.read_csv)\n",
        "\n",
        "# Input data files are available in the read-only \"../input/\" directory\n",
        "# For example, running this (by clicking run or pressing Shift+Enter) will list all files under the input directory\n",
        "\n",
        "import os\n",
        "for dirname, _, filenames in os.walk('/kaggle/input'):\n",
        "    for filename in filenames:\n",
        "        print(os.path.join(dirname, filename))"
      ]
    },
    {
      "cell_type": "code",
      "execution_count": null,
      "id": "21f0b87a",
      "metadata": {
        "id": "21f0b87a",
        "outputId": "6f26b29b-61c3-4ad8-e69f-a292f5de4711"
      },
      "outputs": [
        {
          "name": "stdout",
          "output_type": "stream",
          "text": [
            "Requirement already satisfied: seaborn in c:\\python310\\lib\\site-packages (0.11.2)\n",
            "Requirement already satisfied: scipy>=1.0 in c:\\python310\\lib\\site-packages (from seaborn) (1.8.0)\n",
            "Requirement already satisfied: numpy>=1.15 in c:\\python310\\lib\\site-packages (from seaborn) (1.22.2)\n",
            "Requirement already satisfied: pandas>=0.23 in c:\\python310\\lib\\site-packages (from seaborn) (1.4.2)\n",
            "Requirement already satisfied: matplotlib>=2.2 in c:\\python310\\lib\\site-packages (from seaborn) (3.5.1)\n",
            "Requirement already satisfied: cycler>=0.10 in c:\\python310\\lib\\site-packages (from matplotlib>=2.2->seaborn) (0.11.0)\n",
            "Requirement already satisfied: kiwisolver>=1.0.1 in c:\\python310\\lib\\site-packages (from matplotlib>=2.2->seaborn) (1.4.2)\n",
            "Requirement already satisfied: pillow>=6.2.0 in c:\\python310\\lib\\site-packages (from matplotlib>=2.2->seaborn) (9.1.0)\n",
            "Requirement already satisfied: python-dateutil>=2.7 in c:\\python310\\lib\\site-packages (from matplotlib>=2.2->seaborn) (2.8.2)\n",
            "Requirement already satisfied: packaging>=20.0 in c:\\python310\\lib\\site-packages (from matplotlib>=2.2->seaborn) (21.3)\n",
            "Requirement already satisfied: fonttools>=4.22.0 in c:\\python310\\lib\\site-packages (from matplotlib>=2.2->seaborn) (4.31.2)\n",
            "Requirement already satisfied: pyparsing>=2.2.1 in c:\\python310\\lib\\site-packages (from matplotlib>=2.2->seaborn) (3.0.7)\n",
            "Requirement already satisfied: pytz>=2020.1 in c:\\python310\\lib\\site-packages (from pandas>=0.23->seaborn) (2022.1)\n",
            "Requirement already satisfied: six>=1.5 in c:\\python310\\lib\\site-packages (from python-dateutil>=2.7->matplotlib>=2.2->seaborn) (1.16.0)\n"
          ]
        },
        {
          "name": "stderr",
          "output_type": "stream",
          "text": [
            "WARNING: Ignoring invalid distribution -ip (c:\\python310\\lib\\site-packages)\n",
            "WARNING: Ignoring invalid distribution -ip (c:\\python310\\lib\\site-packages)\n",
            "WARNING: Ignoring invalid distribution -ip (c:\\python310\\lib\\site-packages)\n",
            "WARNING: Ignoring invalid distribution -ip (c:\\python310\\lib\\site-packages)\n",
            "WARNING: Ignoring invalid distribution -ip (c:\\python310\\lib\\site-packages)\n",
            "WARNING: Ignoring invalid distribution -ip (c:\\python310\\lib\\site-packages)\n",
            "WARNING: You are using pip version 21.2.4; however, version 22.0.4 is available.\n",
            "You should consider upgrading via the 'C:\\Python310\\python.exe -m pip install --upgrade pip' command.\n"
          ]
        }
      ],
      "source": [
        "!pip install seaborn"
      ]
    },
    {
      "cell_type": "markdown",
      "id": "e31f2905",
      "metadata": {
        "papermill": {
          "duration": 0.025862,
          "end_time": "2022-02-16T12:42:53.375052",
          "exception": false,
          "start_time": "2022-02-16T12:42:53.349190",
          "status": "completed"
        },
        "tags": [],
        "id": "e31f2905"
      },
      "source": [
        "# *Linear Regression is the Finding best equation of line*\n",
        "* This relationship is in the form of a straight line that best tries to fit each variable."
      ]
    },
    {
      "cell_type": "code",
      "execution_count": null,
      "id": "c93963b1",
      "metadata": {
        "execution": {
          "iopub.execute_input": "2022-02-16T12:42:53.430183Z",
          "iopub.status.busy": "2022-02-16T12:42:53.429407Z",
          "iopub.status.idle": "2022-02-16T12:42:54.528697Z",
          "shell.execute_reply": "2022-02-16T12:42:54.528126Z",
          "shell.execute_reply.started": "2022-02-16T11:39:04.893798Z"
        },
        "papermill": {
          "duration": 1.127989,
          "end_time": "2022-02-16T12:42:54.528847",
          "exception": false,
          "start_time": "2022-02-16T12:42:53.400858",
          "status": "completed"
        },
        "tags": [],
        "id": "c93963b1"
      },
      "outputs": [],
      "source": [
        "import matplotlib.pyplot as plt\n",
        "%matplotlib inline"
      ]
    },
    {
      "cell_type": "code",
      "execution_count": null,
      "id": "867aa286",
      "metadata": {
        "execution": {
          "iopub.execute_input": "2022-02-16T12:42:54.586587Z",
          "iopub.status.busy": "2022-02-16T12:42:54.585637Z",
          "iopub.status.idle": "2022-02-16T12:42:54.609395Z",
          "shell.execute_reply": "2022-02-16T12:42:54.609942Z",
          "shell.execute_reply.started": "2022-02-16T11:39:10.541856Z"
        },
        "papermill": {
          "duration": 0.05537,
          "end_time": "2022-02-16T12:42:54.610157",
          "exception": false,
          "start_time": "2022-02-16T12:42:54.554787",
          "status": "completed"
        },
        "tags": [],
        "id": "867aa286",
        "outputId": "90b14e87-7aca-4d3d-b9e4-6327dd47b282"
      },
      "outputs": [
        {
          "data": {
            "text/html": [
              "<div>\n",
              "<style scoped>\n",
              "    .dataframe tbody tr th:only-of-type {\n",
              "        vertical-align: middle;\n",
              "    }\n",
              "\n",
              "    .dataframe tbody tr th {\n",
              "        vertical-align: top;\n",
              "    }\n",
              "\n",
              "    .dataframe thead th {\n",
              "        text-align: right;\n",
              "    }\n",
              "</style>\n",
              "<table border=\"1\" class=\"dataframe\">\n",
              "  <thead>\n",
              "    <tr style=\"text-align: right;\">\n",
              "      <th></th>\n",
              "      <th>YearsExperience</th>\n",
              "      <th>Salary</th>\n",
              "    </tr>\n",
              "  </thead>\n",
              "  <tbody>\n",
              "    <tr>\n",
              "      <th>0</th>\n",
              "      <td>1.1</td>\n",
              "      <td>39343.0</td>\n",
              "    </tr>\n",
              "    <tr>\n",
              "      <th>1</th>\n",
              "      <td>1.3</td>\n",
              "      <td>46205.0</td>\n",
              "    </tr>\n",
              "    <tr>\n",
              "      <th>2</th>\n",
              "      <td>1.5</td>\n",
              "      <td>37731.0</td>\n",
              "    </tr>\n",
              "    <tr>\n",
              "      <th>3</th>\n",
              "      <td>2.0</td>\n",
              "      <td>43525.0</td>\n",
              "    </tr>\n",
              "    <tr>\n",
              "      <th>4</th>\n",
              "      <td>2.2</td>\n",
              "      <td>39891.0</td>\n",
              "    </tr>\n",
              "  </tbody>\n",
              "</table>\n",
              "</div>"
            ],
            "text/plain": [
              "   YearsExperience   Salary\n",
              "0              1.1  39343.0\n",
              "1              1.3  46205.0\n",
              "2              1.5  37731.0\n",
              "3              2.0  43525.0\n",
              "4              2.2  39891.0"
            ]
          },
          "execution_count": 7,
          "metadata": {},
          "output_type": "execute_result"
        }
      ],
      "source": [
        "salary_data = pd.read_csv('Salary_Data.csv')\n",
        "salary_data.head()"
      ]
    },
    {
      "cell_type": "code",
      "execution_count": null,
      "id": "1fcf1e28",
      "metadata": {
        "execution": {
          "iopub.execute_input": "2022-02-16T12:42:54.667144Z",
          "iopub.status.busy": "2022-02-16T12:42:54.666467Z",
          "iopub.status.idle": "2022-02-16T12:42:54.671198Z",
          "shell.execute_reply": "2022-02-16T12:42:54.671795Z",
          "shell.execute_reply.started": "2022-02-16T11:40:43.400635Z"
        },
        "papermill": {
          "duration": 0.034926,
          "end_time": "2022-02-16T12:42:54.671991",
          "exception": false,
          "start_time": "2022-02-16T12:42:54.637065",
          "status": "completed"
        },
        "tags": [],
        "id": "1fcf1e28"
      },
      "outputs": [],
      "source": [
        "# Extracted dependent and independent variables\n",
        "\n",
        "X = salary_data.iloc[:,:-1].values\n",
        "y = salary_data.iloc[:,1].values"
      ]
    },
    {
      "cell_type": "code",
      "execution_count": null,
      "id": "e09d3f25",
      "metadata": {
        "execution": {
          "iopub.execute_input": "2022-02-16T12:42:54.729630Z",
          "iopub.status.busy": "2022-02-16T12:42:54.728909Z",
          "iopub.status.idle": "2022-02-16T12:42:54.734731Z",
          "shell.execute_reply": "2022-02-16T12:42:54.735331Z",
          "shell.execute_reply.started": "2022-02-16T11:40:50.205531Z"
        },
        "papermill": {
          "duration": 0.036949,
          "end_time": "2022-02-16T12:42:54.735506",
          "exception": false,
          "start_time": "2022-02-16T12:42:54.698557",
          "status": "completed"
        },
        "tags": [],
        "id": "e09d3f25",
        "outputId": "59938899-bbbd-4c42-f9d6-2b425790a918"
      },
      "outputs": [
        {
          "data": {
            "text/plain": [
              "array([[ 1.1],\n",
              "       [ 1.3],\n",
              "       [ 1.5],\n",
              "       [ 2. ],\n",
              "       [ 2.2],\n",
              "       [ 2.9],\n",
              "       [ 3. ],\n",
              "       [ 3.2],\n",
              "       [ 3.2],\n",
              "       [ 3.7],\n",
              "       [ 3.9],\n",
              "       [ 4. ],\n",
              "       [ 4. ],\n",
              "       [ 4.1],\n",
              "       [ 4.5],\n",
              "       [ 4.9],\n",
              "       [ 5.1],\n",
              "       [ 5.3],\n",
              "       [ 5.9],\n",
              "       [ 6. ],\n",
              "       [ 6.8],\n",
              "       [ 7.1],\n",
              "       [ 7.9],\n",
              "       [ 8.2],\n",
              "       [ 8.7],\n",
              "       [ 9. ],\n",
              "       [ 9.5],\n",
              "       [ 9.6],\n",
              "       [10.3],\n",
              "       [10.5]])"
            ]
          },
          "execution_count": 9,
          "metadata": {},
          "output_type": "execute_result"
        }
      ],
      "source": [
        "X"
      ]
    },
    {
      "cell_type": "code",
      "execution_count": null,
      "id": "fb784c3b",
      "metadata": {
        "execution": {
          "iopub.execute_input": "2022-02-16T12:42:54.793274Z",
          "iopub.status.busy": "2022-02-16T12:42:54.792601Z",
          "iopub.status.idle": "2022-02-16T12:42:54.798003Z",
          "shell.execute_reply": "2022-02-16T12:42:54.798563Z",
          "shell.execute_reply.started": "2022-02-16T11:40:52.724569Z"
        },
        "papermill": {
          "duration": 0.035257,
          "end_time": "2022-02-16T12:42:54.798736",
          "exception": false,
          "start_time": "2022-02-16T12:42:54.763479",
          "status": "completed"
        },
        "tags": [],
        "id": "fb784c3b",
        "outputId": "2d1572e2-5bb8-4698-f0f6-cfaaebd8a130"
      },
      "outputs": [
        {
          "data": {
            "text/plain": [
              "array([ 39343.,  46205.,  37731.,  43525.,  39891.,  56642.,  60150.,\n",
              "        54445.,  64445.,  57189.,  63218.,  55794.,  56957.,  57081.,\n",
              "        61111.,  67938.,  66029.,  83088.,  81363.,  93940.,  91738.,\n",
              "        98273., 101302., 113812., 109431., 105582., 116969., 112635.,\n",
              "       122391., 121872.])"
            ]
          },
          "execution_count": 10,
          "metadata": {},
          "output_type": "execute_result"
        }
      ],
      "source": [
        "y"
      ]
    },
    {
      "cell_type": "markdown",
      "id": "dbe1d1c7",
      "metadata": {
        "papermill": {
          "duration": 0.027975,
          "end_time": "2022-02-16T12:42:55.497437",
          "exception": false,
          "start_time": "2022-02-16T12:42:55.469462",
          "status": "completed"
        },
        "tags": [],
        "id": "dbe1d1c7"
      },
      "source": [
        "# Splitting data into Training and Test DataSets"
      ]
    },
    {
      "cell_type": "code",
      "execution_count": null,
      "id": "3f1e9e77",
      "metadata": {
        "execution": {
          "iopub.execute_input": "2022-02-16T12:42:55.558440Z",
          "iopub.status.busy": "2022-02-16T12:42:55.557702Z",
          "iopub.status.idle": "2022-02-16T12:42:55.739310Z",
          "shell.execute_reply": "2022-02-16T12:42:55.739821Z",
          "shell.execute_reply.started": "2022-02-16T12:02:43.568754Z"
        },
        "papermill": {
          "duration": 0.213658,
          "end_time": "2022-02-16T12:42:55.740075",
          "exception": false,
          "start_time": "2022-02-16T12:42:55.526417",
          "status": "completed"
        },
        "tags": [],
        "id": "3f1e9e77"
      },
      "outputs": [],
      "source": [
        "from sklearn.model_selection import train_test_split\n",
        "X_train, X_test, y_train, y_test = train_test_split(X,y,test_size=1/3,random_state=0)"
      ]
    },
    {
      "cell_type": "markdown",
      "id": "7875bcc5",
      "metadata": {
        "papermill": {
          "duration": 0.028073,
          "end_time": "2022-02-16T12:42:55.797507",
          "exception": false,
          "start_time": "2022-02-16T12:42:55.769434",
          "status": "completed"
        },
        "tags": [],
        "id": "7875bcc5"
      },
      "source": [
        "# Fiiting Simple Linear regression to Training Set"
      ]
    },
    {
      "cell_type": "code",
      "execution_count": null,
      "id": "534cfacd",
      "metadata": {
        "execution": {
          "iopub.execute_input": "2022-02-16T12:42:55.860727Z",
          "iopub.status.busy": "2022-02-16T12:42:55.858425Z",
          "iopub.status.idle": "2022-02-16T12:42:55.965352Z",
          "shell.execute_reply": "2022-02-16T12:42:55.965986Z",
          "shell.execute_reply.started": "2022-02-16T12:03:12.287305Z"
        },
        "papermill": {
          "duration": 0.139362,
          "end_time": "2022-02-16T12:42:55.966170",
          "exception": false,
          "start_time": "2022-02-16T12:42:55.826808",
          "status": "completed"
        },
        "tags": [],
        "id": "534cfacd",
        "outputId": "d79361d5-7c7d-42de-eee5-2cd7d76719db"
      },
      "outputs": [
        {
          "data": {
            "text/plain": [
              "LinearRegression()"
            ]
          },
          "execution_count": 18,
          "metadata": {},
          "output_type": "execute_result"
        }
      ],
      "source": [
        "from sklearn.linear_model import LinearRegression\n",
        "lr = LinearRegression()\n",
        "lr.fit(X_train, y_train)"
      ]
    },
    {
      "cell_type": "markdown",
      "id": "ca5522c7",
      "metadata": {
        "papermill": {
          "duration": 0.029796,
          "end_time": "2022-02-16T12:42:56.024486",
          "exception": false,
          "start_time": "2022-02-16T12:42:55.994690",
          "status": "completed"
        },
        "tags": [],
        "id": "ca5522c7"
      },
      "source": [
        "# Predicting the test set results"
      ]
    },
    {
      "cell_type": "code",
      "execution_count": null,
      "id": "cd970f23",
      "metadata": {
        "execution": {
          "iopub.execute_input": "2022-02-16T12:42:56.091110Z",
          "iopub.status.busy": "2022-02-16T12:42:56.087031Z",
          "iopub.status.idle": "2022-02-16T12:42:56.094713Z",
          "shell.execute_reply": "2022-02-16T12:42:56.095313Z",
          "shell.execute_reply.started": "2022-02-16T12:03:17.201867Z"
        },
        "papermill": {
          "duration": 0.042249,
          "end_time": "2022-02-16T12:42:56.095494",
          "exception": false,
          "start_time": "2022-02-16T12:42:56.053245",
          "status": "completed"
        },
        "tags": [],
        "id": "cd970f23",
        "outputId": "bff34ccc-49f4-4ab6-d5fa-e368a2647c7a"
      },
      "outputs": [
        {
          "data": {
            "text/plain": [
              "array([ 40835.10590871, 123079.39940819,  65134.55626083,  63265.36777221,\n",
              "       115602.64545369, 108125.8914992 , 116537.23969801,  64199.96201652,\n",
              "        76349.68719258, 100649.1375447 ])"
            ]
          },
          "execution_count": 19,
          "metadata": {},
          "output_type": "execute_result"
        }
      ],
      "source": [
        "y_pred = lr.predict(X_test)\n",
        "y_pred"
      ]
    },
    {
      "cell_type": "markdown",
      "id": "875765fc",
      "metadata": {
        "papermill": {
          "duration": 0.028981,
          "end_time": "2022-02-16T12:42:56.156646",
          "exception": false,
          "start_time": "2022-02-16T12:42:56.127665",
          "status": "completed"
        },
        "tags": [],
        "id": "875765fc"
      },
      "source": [
        "# Visualising the Training set results"
      ]
    },
    {
      "cell_type": "code",
      "execution_count": null,
      "id": "2d70b5e5",
      "metadata": {
        "execution": {
          "iopub.execute_input": "2022-02-16T12:42:56.220609Z",
          "iopub.status.busy": "2022-02-16T12:42:56.219572Z",
          "iopub.status.idle": "2022-02-16T12:42:56.432788Z",
          "shell.execute_reply": "2022-02-16T12:42:56.433345Z",
          "shell.execute_reply.started": "2022-02-16T12:05:39.038317Z"
        },
        "papermill": {
          "duration": 0.247878,
          "end_time": "2022-02-16T12:42:56.433530",
          "exception": false,
          "start_time": "2022-02-16T12:42:56.185652",
          "status": "completed"
        },
        "tags": [],
        "id": "2d70b5e5",
        "outputId": "19fb19ca-4602-42a3-f1af-f6bc5b494809"
      },
      "outputs": [
        {
          "data": {
            "image/png": "[encoded data removed]",
            "text/plain": [
              "<Figure size 432x288 with 1 Axes>"
            ]
          },
          "metadata": {
            "needs_background": "light"
          },
          "output_type": "display_data"
        }
      ],
      "source": [
        "plt.scatter(X_train,y_train,color='blue')\n",
        "plt.plot(X_train,lr.predict(X_train), color='red')\n",
        "plt.title('Salary ~ Experience (train set)')\n",
        "plt.xlabel('Years of Experience')\n",
        "plt.ylabel('Salary')\n",
        "plt.show()\n",
        "          "
      ]
    },
    {
      "cell_type": "markdown",
      "id": "37aa7c99",
      "metadata": {
        "papermill": {
          "duration": 0.029758,
          "end_time": "2022-02-16T12:42:56.493122",
          "exception": false,
          "start_time": "2022-02-16T12:42:56.463364",
          "status": "completed"
        },
        "tags": [],
        "id": "37aa7c99"
      },
      "source": [
        "# Visulaising Test set results"
      ]
    },
    {
      "cell_type": "code",
      "execution_count": null,
      "id": "c2eb0cfd",
      "metadata": {
        "execution": {
          "iopub.execute_input": "2022-02-16T12:42:56.556933Z",
          "iopub.status.busy": "2022-02-16T12:42:56.555888Z",
          "iopub.status.idle": "2022-02-16T12:42:56.748791Z",
          "shell.execute_reply": "2022-02-16T12:42:56.748198Z",
          "shell.execute_reply.started": "2022-02-16T12:05:42.058915Z"
        },
        "papermill": {
          "duration": 0.225898,
          "end_time": "2022-02-16T12:42:56.748935",
          "exception": false,
          "start_time": "2022-02-16T12:42:56.523037",
          "status": "completed"
        },
        "tags": [],
        "id": "c2eb0cfd",
        "outputId": "0caf332f-57cd-4f2a-e9f4-3266f6134384"
      },
      "outputs": [
        {
          "data": {
            "image/png": "[encoded data removed]",
            "text/plain": [
              "<Figure size 432x288 with 1 Axes>"
            ]
          },
          "metadata": {
            "needs_background": "light"
          },
          "output_type": "display_data"
        }
      ],
      "source": [
        "plt.scatter(X_test,y_test,color='blue')\n",
        "plt.plot(X_train,lr.predict(X_train),color='red')\n",
        "plt.title('Salary vs Experience(Test set)')\n",
        "plt.xlabel('Year of Experience')\n",
        "plt.ylabel('Salary')\n",
        "plt.show()"
      ]
    },
    {
      "cell_type": "markdown",
      "id": "4bc5432c",
      "metadata": {
        "papermill": {
          "duration": 0.030892,
          "end_time": "2022-02-16T12:42:56.810727",
          "exception": false,
          "start_time": "2022-02-16T12:42:56.779835",
          "status": "completed"
        },
        "tags": [],
        "id": "4bc5432c"
      },
      "source": [
        "# Finding Residual -- accuracy "
      ]
    },
    {
      "cell_type": "markdown",
      "id": "15eddc61",
      "metadata": {
        "papermill": {
          "duration": 0.03073,
          "end_time": "2022-02-16T12:42:56.872333",
          "exception": false,
          "start_time": "2022-02-16T12:42:56.841603",
          "status": "completed"
        },
        "tags": [],
        "id": "15eddc61"
      },
      "source": [
        "> Lower the value higher will be the accuracy"
      ]
    },
    {
      "cell_type": "markdown",
      "id": "b48ba557",
      "metadata": {
        "papermill": {
          "duration": 0.033134,
          "end_time": "2022-02-16T12:42:56.937799",
          "exception": false,
          "start_time": "2022-02-16T12:42:56.904665",
          "status": "completed"
        },
        "tags": [],
        "id": "b48ba557"
      },
      "source": [
        "**MAE (Mean Absolute Error):** \n",
        "* Distance between any data point and the the best fit lines is called as prediction error\n",
        "* we can also say that lower the value, better it is.\n",
        "\n",
        "**MSE (Mean Squared Error):**\n",
        "* The summation of suqare of all the distances between any data point and the best fit line divided by the total number of data points (mean) gives us a value called as Mean Squared Error.\n",
        "* we can also say that lower the value, better it is.\n",
        "\n",
        "**Root Mean Squared Error (RMSE):**\n",
        "* we do square root of MSE.\n",
        "* Value range,we can also say that lower the value, better it is."
      ]
    },
    {
      "cell_type": "code",
      "execution_count": null,
      "id": "17820f3a",
      "metadata": {
        "execution": {
          "iopub.execute_input": "2022-02-16T12:42:57.004095Z",
          "iopub.status.busy": "2022-02-16T12:42:57.003059Z",
          "iopub.status.idle": "2022-02-16T12:42:57.011158Z",
          "shell.execute_reply": "2022-02-16T12:42:57.011729Z",
          "shell.execute_reply.started": "2022-02-16T12:06:46.580875Z"
        },
        "papermill": {
          "duration": 0.04278,
          "end_time": "2022-02-16T12:42:57.011900",
          "exception": false,
          "start_time": "2022-02-16T12:42:56.969120",
          "status": "completed"
        },
        "tags": [],
        "id": "17820f3a",
        "outputId": "04c5c4e5-a388-45b2-dc62-36eb87f2b44b"
      },
      "outputs": [
        {
          "name": "stdout",
          "output_type": "stream",
          "text": [
            "MAE:  3426.4269374307078\n",
            "MSE:  21026037.329511296\n",
            "RMSE:  3426.4269374307078\n"
          ]
        }
      ],
      "source": [
        "from sklearn import metrics\n",
        "print('MAE: ',metrics.mean_absolute_error(y_test,y_pred))\n",
        "print('MSE: ',metrics.mean_squared_error(y_test,y_pred))\n",
        "print('RMSE: ',metrics.mean_absolute_error(y_test,y_pred))"
      ]
    },
    {
      "cell_type": "code",
      "execution_count": null,
      "id": "4e8959e2",
      "metadata": {
        "execution": {
          "iopub.execute_input": "2022-02-16T12:42:57.081273Z",
          "iopub.status.busy": "2022-02-16T12:42:57.080084Z",
          "iopub.status.idle": "2022-02-16T12:42:57.085585Z",
          "shell.execute_reply": "2022-02-16T12:42:57.086223Z",
          "shell.execute_reply.started": "2022-02-16T12:24:55.156702Z"
        },
        "papermill": {
          "duration": 0.043378,
          "end_time": "2022-02-16T12:42:57.086405",
          "exception": false,
          "start_time": "2022-02-16T12:42:57.043027",
          "status": "completed"
        },
        "tags": [],
        "id": "4e8959e2",
        "outputId": "7bdda7eb-7c81-4c11-a199-b9d1b293ae7a"
      },
      "outputs": [
        {
          "name": "stdout",
          "output_type": "stream",
          "text": [
            "Co-efficient of determination (R2 Score):  0.9749154407708353\n"
          ]
        }
      ],
      "source": [
        "print(\"Co-efficient of determination (R2 Score): \", metrics.r2_score(y_test, y_pred))"
      ]
    }
  ],
  "metadata": {
    "kernelspec": {
      "display_name": "Python 3 (ipykernel)",
      "language": "python",
      "name": "python3"
    },
    "language_info": {
      "codemirror_mode": {
        "name": "ipython",
        "version": 3
      },
      "file_extension": ".py",
      "mimetype": "text/x-python",
      "name": "python",
      "nbconvert_exporter": "python",
      "pygments_lexer": "ipython3",
      "version": "3.9.10"
    },
    "papermill": {
      "default_parameters": {},
      "duration": 16.274764,
      "end_time": "2022-02-16T12:42:58.766630",
      "environment_variables": {},
      "exception": null,
      "input_path": "__notebook__.ipynb",
      "output_path": "__notebook__.ipynb",
      "parameters": {},
      "start_time": "2022-02-16T12:42:42.491866",
      "version": "2.3.3"
    },
    "colab": {
      "name": "salary_linear_regression.ipynb",
      "provenance": []
    }
  },
  "nbformat": 4,
  "nbformat_minor": 5
}